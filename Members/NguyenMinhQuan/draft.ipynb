{
 "cells": [
  {
   "cell_type": "markdown",
   "metadata": {},
   "source": [
    "#### 9.7.1.2 Truncating Time Steps\n"
   ]
  },
  {
   "cell_type": "markdown",
   "metadata": {},
   "source": [
    "##### Tổng quan về Truncated Backpropagation Through Time\n",
    "Truncated Backpropagation Through Time (TBPTT) là một phương pháp tối ưu hóa quá trình huấn luyện các mạng nơ-ron hồi tiếp (RNN) trên các chuỗi dữ liệu dài, bằng cách chia chuỗi đầu vào thành các đoạn con (subsequences) có độ dài cố định."
   ]
  },
  {
   "cell_type": "markdown",
   "metadata": {},
   "source": [
    "##### Nguyên lý hoạt động\n",
    "- Forward pass:\n",
    "    - Mỗi đoạn con được xử lý tuần tự. Trạng thái ẩn (hidden state) từ đoạn con trước được truyền sang làm giá trị khởi tạo cho đoạn con tiếp theo.\n",
    "    - Ví dụ: Nếu chuỗi gốc dài 100 bước thời gian được chia thành 4 đoạn (mỗi đoạn 25 bước), hidden state ở bước 25 sẽ dùng làm đầu vào cho đoạn 26–50.\n",
    "- Backward pass:\n",
    "    - Gradient chỉ được tính toán trong phạm vi từng đoạn con và bị \"cắt bỏ\" (truncated) khi chuyển sang đoạn tiếp theo.\n",
    "    - Khác với BPTT tiêu chuẩn (gradient lan truyền qua toàn bộ chuỗi), TBPTT ngăn gradient từ đoạn sau ảnh hưởng đến đoạn trước nếu vượt quá độ dài đoạn con."
   ]
  },
  {
   "cell_type": "markdown",
   "metadata": {},
   "source": [
    "##### Ưu điểm của phương pháp trên:\n",
    "1. Giảm nguy cơ gradient vanishing/exploding:\n",
    "    - Việc giới hạn số bước $\\tau$ làm giảm số lượng tích các ma trận Jacobian $\\prod_{j=i+1}^t \\frac{\\partial f}{\\partial h_{j-1}}$, từ đó:\n",
    "        - Tránh tích luỹ các giá trị Jacobian nhỏ (< 1) gây gradient vanishing \n",
    "2. Tiết kiệm bộ nhớ\n",
    "    - Chỉ lưu trữ gradient cho $\\tau$ bước gần nhất, giảm đáng kể yêu cầu bộ nhớ\n",
    "3. Tốc độ\n",
    "    - Giảm chi phí tính toán cho chuỗi dài khi số phép tính giảm từ O($T$) xuống còn O($\\tau$)"
   ]
  },
  {
   "cell_type": "markdown",
   "metadata": {},
   "source": [
    "##### Hạn chế:\n",
    "- Việc giới hạn số bước khiến cho các phụ thuộc từ đầu chuỗi không được xét đến, dẫn đến giảm hiệu suất trong các tác vụ yêu cầu bộ nhớ dài\n",
    "- Gradient tính toán không chính xác như Full Computation, nhưng vẫn đủ tốt để huấn luyện hiệu quả"
   ]
  },
  {
   "cell_type": "markdown",
   "metadata": {},
   "source": [
    "##### Ứng dụng thực tế:\n",
    "- Mô hình ngôn ngữ (Language Models): xử lý văn bản dài\n",
    "- Dự báo chuỗi thời gian: Dự báo giá cổ phiếu, thời tiết\n",
    "- Xử lý âm thanh: Nhận dạng giọng nói"
   ]
  },
  {
   "cell_type": "markdown",
   "metadata": {},
   "source": [
    "##### Hiện thực:"
   ]
  },
  {
   "cell_type": "code",
   "execution_count": 1,
   "metadata": {},
   "outputs": [],
   "source": [
    "import numpy as np\n",
    "import torch\n",
    "import torch.nn as nn\n",
    "import torch.optim as optim\n",
    "import matplotlib.pyplot as plt\n",
    "import time\n",
    "import psutil\n",
    "device = torch.device('cuda' if torch.cuda.is_available() else 'cpu')"
   ]
  },
  {
   "cell_type": "markdown",
   "metadata": {},
   "source": [
    "- **Trong đó**: \n",
    "    - `numpy`: Tạo dữ liệu sóng sine.\n",
    "    - `torch`: Xây dựng và huấn luyện RNN.\n",
    "    - `matplotlib`: Vẽ biểu đồ loss.\n",
    "    - `time`, `psutil`: Đo thời gian và bộ nhớ.\n",
    "    - `device`: Sử dụng GPU nếu có, nếu không dùng CPU."
   ]
  },
  {
   "cell_type": "markdown",
   "metadata": {},
   "source": [
    "Ta sẽ tạo một chuỗi sóng sine với nhiễu Gaussian để huấn luyện mô hình"
   ]
  },
  {
   "cell_type": "code",
   "execution_count": 2,
   "metadata": {},
   "outputs": [],
   "source": [
    "def generate_data(seq_length=10000):\n",
    "    t = np.linspace(0, 100, seq_length)\n",
    "    y = np.sin(t) + 0.1 * np.random.randn(seq_length) \n",
    "    return y"
   ]
  },
  {
   "cell_type": "markdown",
   "metadata": {},
   "source": [
    "- **Tham số**:\n",
    "  - `seq_length=10000`: Độ dài chuỗi.\n",
    "  - `t`: Chuỗi thời gian từ 0 đến 100.\n",
    "  - `y`: Sóng sine với nhiễu (độ lệch chuẩn 0.1).\n",
    "- **Mục đích**: Tạo dữ liệu mô phỏng chuỗi thời gian thực tế."
   ]
  },
  {
   "cell_type": "markdown",
   "metadata": {},
   "source": [
    "Tiếp theo, ta xây dựng mô hình RNN đơn giản sử dụng nn.Module của PyTorch với một hidden layer và một linear layer để dự đoán: "
   ]
  },
  {
   "cell_type": "code",
   "execution_count": 3,
   "metadata": {},
   "outputs": [],
   "source": [
    "class RNN(nn.Module):\n",
    "    def __init__(self, input_size=1, hidden_size=32):\n",
    "        super(RNN, self).__init__()\n",
    "        self.rnn = nn.RNN(input_size, hidden_size, batch_first=True)\n",
    "        self.fc = nn.Linear(hidden_size, 1)\n",
    "\n",
    "    def forward(self, x, h=None):\n",
    "        out, h = self.rnn(x, h)\n",
    "        out = self.fc(out)\n",
    "        return out, h "
   ]
  },
  {
   "cell_type": "markdown",
   "metadata": {},
   "source": [
    "- **Cấu trúc**:\n",
    "  - `input_size=1`: Mỗi bước thời gian nhận một giá trị.\n",
    "  - `hidden_size=32`: Kích thước lớp ẩn.\n",
    "  - `batch_first=True`: Đầu vào có dạng (batch_size, seq_length, input_size).\n",
    "  - `fc`: Lớp tuyến tính ánh xạ từ lớp ẩn sang đầu ra.\n",
    "- **Hàm forward**: Trả về dự đoán và trạng thái ẩn."
   ]
  },
  {
   "cell_type": "markdown",
   "metadata": {},
   "source": [
    "Để huấn luyện mô hình, ta định nghĩa Hàm `train` hỗ trợ cả Full BPTT và Truncated BPTT, đồng thời đo lường thời gian và bộ nhớ."
   ]
  },
  {
   "cell_type": "code",
   "execution_count": 4,
   "metadata": {},
   "outputs": [],
   "source": [
    "def train(model, data, truncate_length=200, num_epochs=30, lr=0.01, is_truncate=True):\n",
    "    optimizer = optim.Adam(model.parameters(), lr=lr)\n",
    "    criterion = nn.MSELoss()\n",
    "    losses = []\n",
    "\n",
    "    model.train()\n",
    "\n",
    "    # Đo thời gian bắt đầu\n",
    "    start_time = time.time()\n",
    "\n",
    "    # Đo bộ nhớ ban đầu\n",
    "    process = psutil.Process()\n",
    "    mem_before = process.memory_info().rss / 1024 / 1024  # MB\n",
    "\n",
    "    # Đo bộ nhớ GPU ban đầu\n",
    "    if torch.cuda.is_available():\n",
    "        gpu_mem_before = torch.cuda.memory_allocated() / 1024 ** 2  # MB\n",
    "        gpu_reserved_before = torch.cuda.memory_reserved() / 1024 ** 2  # MB\n",
    "    else:\n",
    "        gpu_mem_before = 0.0\n",
    "        gpu_reserved_before = 0.0\n",
    "\n",
    "    seq_len = len(data)-1\n",
    "    data = np.array(data)\n",
    "\n",
    "    if is_truncate:\n",
    "        # Truncated BPTT\n",
    "        data_tensor = torch.tensor(data, dtype=torch.float32).to(device)\n",
    "        for epoch in range(num_epochs):\n",
    "            h = None\n",
    "            total_loss = 0\n",
    "            num_steps = 0\n",
    "            optimizer.zero_grad()\n",
    "\n",
    "            for start in range(0, seq_len, truncate_length):\n",
    "                end = min(start + truncate_length, seq_len)\n",
    "                segment_length = end - start\n",
    "\n",
    "                x = data_tensor[start:end].view(1, segment_length, 1)\n",
    "                y_true = data_tensor[start+1:end+1].view(1, segment_length, 1)\n",
    "\n",
    "                y_pred, h = model(x, h)\n",
    "                loss = criterion(y_pred, y_true)\n",
    "                loss.backward()\n",
    "                total_loss += loss.item() * segment_length\n",
    "                num_steps += segment_length\n",
    "                h = h.detach()\n",
    "\n",
    "            optimizer.step()\n",
    "            avg_loss = total_loss / num_steps\n",
    "            losses.append(avg_loss)\n",
    "\n",
    "            if (epoch + 1) % 5 == 0:\n",
    "                print(f\"Epoch {epoch + 1}/{num_epochs}, Loss: {avg_loss:.6f}\")\n",
    "    else:\n",
    "        # Full BPTT\n",
    "        x = torch.tensor(data[:-1], dtype=torch.float32).view(1, seq_len, 1).to(device)\n",
    "        y_true = torch.tensor(data[1:], dtype=torch.float32).view(1, seq_len, 1).to(device)\n",
    "\n",
    "        for epoch in range(num_epochs):\n",
    "            model.zero_grad()\n",
    "            y_pred, _ = model(x)\n",
    "            loss = criterion(y_pred, y_true)\n",
    "            loss.backward()\n",
    "            optimizer.step()\n",
    "            losses.append(loss.item())\n",
    "\n",
    "            if (epoch + 1) % 5 == 0:\n",
    "                print(f\"Epoch {epoch + 1}/{num_epochs}, Loss: {loss.item():.6f}\")\n",
    "\n",
    "    # Đo thời gian kết thúc\n",
    "    end_time = time.time()\n",
    "    elapsed_time = end_time - start_time\n",
    "\n",
    "    # Đo bộ nhớ GPU sau huấn luyện\n",
    "    if torch.cuda.is_available():\n",
    "        gpu_mem_after = torch.cuda.memory_allocated() / 1024 ** 2  # MB\n",
    "        gpu_reserved_after = torch.cuda.memory_reserved() / 1024 ** 2  # MB\n",
    "    else:\n",
    "        gpu_mem_after = 0.0\n",
    "        gpu_reserved_after = 0.0\n",
    "\n",
    "    # Tính bộ nhớ GPU sử dụng\n",
    "    gpu_mem_used = gpu_mem_after - gpu_mem_before\n",
    "    gpu_reserved_used = gpu_reserved_after - gpu_reserved_before\n",
    "\n",
    "    # Đo bộ nhớ sau huấn luyện\n",
    "    mem_after = process.memory_info().rss / 1024 / 1024  # MB\n",
    "    mem_used = mem_after - mem_before\n",
    "\n",
    "    return losses, elapsed_time, mem_used, gpu_mem_used, gpu_reserved_used"
   ]
  },
  {
   "cell_type": "markdown",
   "metadata": {},
   "source": [
    "- **Tham số**:\n",
    "  - `truncate_length=200`: Độ dài đoạn cho Truncated BPTT.\n",
    "  - `num_epochs=30`: Số epoch huấn luyện.\n",
    "  - `lr=0.01`: Tốc độ học.\n",
    "  - `is_truncate`: Chọn giữa Truncated BPTT (`True`) và Full BPTT (`False`).\n",
    "- **Đo lường**:\n",
    "  - Thời gian huấn luyện (giây).\n",
    "  - Bộ nhớ CPU và GPU sử dụng (MB).\n",
    "- **Trả về**: Danh sách loss, thời gian, bộ nhớ CPU/GPU sử dụng."
   ]
  },
  {
   "cell_type": "markdown",
   "metadata": {},
   "source": [
    "Sau khi định nghĩa xong các lớp và hàm cần thiết, ta tiến hành huấn luyện hai mô hình: một với Truncated BPTT (độ dài truncate 200) và một với Full BPTT."
   ]
  },
  {
   "cell_type": "code",
   "execution_count": 5,
   "metadata": {},
   "outputs": [
    {
     "name": "stdout",
     "output_type": "stream",
     "text": [
      "Fix Truncate BPTT\n",
      "Epoch 5/30, Loss: 0.030703\n",
      "Epoch 10/30, Loss: 0.078559\n",
      "Epoch 15/30, Loss: 0.045523\n",
      "Epoch 20/30, Loss: 0.029028\n",
      "Epoch 25/30, Loss: 0.015855\n",
      "Epoch 30/30, Loss: 0.014005\n",
      "Full BPTT\n",
      "Epoch 5/30, Loss: 0.238577\n",
      "Epoch 10/30, Loss: 0.092162\n",
      "Epoch 15/30, Loss: 0.019071\n",
      "Epoch 20/30, Loss: 0.014913\n",
      "Epoch 25/30, Loss: 0.023099\n",
      "Epoch 30/30, Loss: 0.015855\n"
     ]
    }
   ],
   "source": [
    "data = generate_data()\n",
    "# Huấn luyện với truncated BPTT\n",
    "print(\"Fix Truncate BPTT\")\n",
    "model_truncated = RNN().to(device)\n",
    "losses_truncated, time_truncated, memory_truncated, gpu_mem_truncated, gpu_reserved_truncated = train(model_truncated, data)\n",
    "\n",
    "# Huấn luyện với full BPTT\n",
    "print(\"Full BPTT\")\n",
    "model_standard = RNN().to(device)\n",
    "losses_standard, time_standard, memory_standard, gpu_mem_standard, gpu_reserved_standard = train(model_standard, data, is_truncate=False)"
   ]
  },
  {
   "cell_type": "markdown",
   "metadata": {},
   "source": [
    "`Biểu đồ loss` được vẽ để so sánh tốc độ hội tụ của hai phương pháp"
   ]
  },
  {
   "cell_type": "code",
   "execution_count": 6,
   "metadata": {},
   "outputs": [
    {
     "data": {
      "image/png": "[encoded data removed]",
      "text/plain": [
       "<Figure size 640x480 with 1 Axes>"
      ]
     },
     "metadata": {},
     "output_type": "display_data"
    }
   ],
   "source": [
    "plt.plot(losses_standard, label=\"No Truncation\")\n",
    "plt.plot(losses_truncated, label=\"Fixed Truncation\")\n",
    "plt.xlabel(\"Epoch\")\n",
    "plt.ylabel(\"Loss\")\n",
    "plt.legend()\n",
    "plt.title(\"So sánh Loss giữa hai phương pháp\")\n",
    "plt.show()"
   ]
  },
  {
   "cell_type": "markdown",
   "metadata": {},
   "source": [
    "- **Mô tả**:\n",
    "    - Phương pháp Full BPTT được thể hiện bằng đường màu xanh. Ban đầu, hàm mất mát khởi tạo ở mức cao nhưng giảm nhanh và hội tụ ổn định theo thời gian. Có thể thấy sự dao động giữa các epoch là lớn do phải xử lý chuỗi dài không giới hạn, dẫn đến việc tính toán gradient thiếu ổn định.\n",
    "    - Phương pháp Truncated BPTT được thể hiện bằng đường màu cam. Ban đầu hàm mất mát có xu hướng giảm nhanh hơn phương pháp Full BPTT nhưng ổn định sớm hơn nhờ vào sự giảm thiểu đáng kể biến động gradient.\n"
   ]
  },
  {
   "cell_type": "markdown",
   "metadata": {},
   "source": [
    "Kết quả về thời gian và bộ nhớ được in ra để so sánh."
   ]
  },
  {
   "cell_type": "code",
   "execution_count": 8,
   "metadata": {},
   "outputs": [
    {
     "name": "stdout",
     "output_type": "stream",
     "text": [
      "\n",
      "==== Kết Quả ====\n",
      "[No Truncation]    Thời gian: 21.04 giây, Bộ nhớ tăng (CPU): 111.76 MB\n",
      "[Fix Truncation] Thời gian: 20.22 giây, Bộ nhớ tăng (CPU): 3.88 MB\n"
     ]
    }
   ],
   "source": [
    "print(\"\\n==== Kết Quả ====\")\n",
    "print(f\"[No Truncation]    Thời gian: {time_standard:.2f} giây, Bộ nhớ tăng (CPU): {memory_standard:.2f} MB\")\n",
    "print(f\"[Fix Truncation] Thời gian: {time_truncated:.2f} giây, Bộ nhớ tăng (CPU): {memory_truncated:.2f} MB\")\n",
    "\n",
    "if torch.cuda.is_available():\n",
    "    print(\"\\n==== Thống kê GPU (kèm thời gian huấn luyện) ====\")\n",
    "    print(f\"[No Truncation]    Thời gian: {time_standard:.2f} giây | Bộ nhớ GPU sử dụng: {gpu_mem_standard:.2f} MB | Bộ nhớ GPU reserved: {gpu_reserved_standard:.2f} MB\")\n",
    "    print(f\"[Fix Truncation] Thời gian: {time_truncated:.2f} giây | Bộ nhớ GPU sử dụng: {gpu_mem_truncated:.2f} MB | Bộ nhớ GPU reserved: {gpu_reserved_truncated:.2f} MB\")"
   ]
  },
  {
   "cell_type": "markdown",
   "metadata": {},
   "source": [
    "- Từ kết quả trên, ta rút ra được những điều sau:\n",
    "  - Về mặt hiệu suất thời gian: Truncated BPTT nhỉnh hơn Full BPTT về tốc độ nhưng sự chênh lệch không quá lớn, có thể do độ dài chuỗi (10.000) và phần cứng chưa đủ để bộc lộ rõ sự khác biệt. Với chuỗi dài hơn (ví dụ: 100.000 điểm), thời gian của Full BPTT có thể tăng đáng kể. \n",
    "  - Về mặt hiệu suất bộ nhớ: Truncated BPTT vượt trội hơn nhiều so với Full BPTT. Điều này làm cho Truncated BPTT trở thành lựa chọn tối ưu trên các hệ thống có bộ nhớ giới hạn."
   ]
  },
  {
   "cell_type": "markdown",
   "metadata": {},
   "source": [
    "Cuối cùng, Chúng ta so sánh hiệu suất của Truncated BPTT với các độ dài truncate khác nhau để đánh giá tác động của tham số này."
   ]
  },
  {
   "cell_type": "code",
   "execution_count": 9,
   "metadata": {},
   "outputs": [
    {
     "name": "stdout",
     "output_type": "stream",
     "text": [
      "\n",
      "Training with Full BPTT\n",
      "Epoch 5/30, Loss: 0.119282\n",
      "Epoch 10/30, Loss: 0.039015\n",
      "Epoch 15/30, Loss: 0.021594\n",
      "Epoch 20/30, Loss: 0.024839\n",
      "Epoch 25/30, Loss: 0.023817\n",
      "Epoch 30/30, Loss: 0.015387\n",
      "\n",
      "Training with Truncate_20\n",
      "Epoch 5/30, Loss: 0.238627\n",
      "Epoch 10/30, Loss: 0.021676\n",
      "Epoch 15/30, Loss: 0.028766\n",
      "Epoch 20/30, Loss: 0.025348\n",
      "Epoch 25/30, Loss: 0.022281\n",
      "Epoch 30/30, Loss: 0.016366\n",
      "\n",
      "Training with Truncate_50\n",
      "Epoch 5/30, Loss: 0.027385\n",
      "Epoch 10/30, Loss: 0.064073\n",
      "Epoch 15/30, Loss: 0.015999\n",
      "Epoch 20/30, Loss: 0.019720\n",
      "Epoch 25/30, Loss: 0.024412\n",
      "Epoch 30/30, Loss: 0.014228\n",
      "\n",
      "Training with Truncate_100\n",
      "Epoch 5/30, Loss: 0.086678\n",
      "Epoch 10/30, Loss: 0.045590\n",
      "Epoch 15/30, Loss: 0.014164\n",
      "Epoch 20/30, Loss: 0.015257\n",
      "Epoch 25/30, Loss: 0.021496\n",
      "Epoch 30/30, Loss: 0.018599\n",
      "\n",
      "Training with Truncate_200\n",
      "Epoch 5/30, Loss: 0.081721\n",
      "Epoch 10/30, Loss: 0.047201\n",
      "Epoch 15/30, Loss: 0.030647\n",
      "Epoch 20/30, Loss: 0.022385\n",
      "Epoch 25/30, Loss: 0.015670\n",
      "Epoch 30/30, Loss: 0.015319\n",
      "\n",
      "Training with Truncate_500\n",
      "Epoch 5/30, Loss: 0.034340\n",
      "Epoch 10/30, Loss: 0.048585\n",
      "Epoch 15/30, Loss: 0.014583\n",
      "Epoch 20/30, Loss: 0.015919\n",
      "Epoch 25/30, Loss: 0.021192\n",
      "Epoch 30/30, Loss: 0.017174\n",
      "\n",
      "Training with Truncate_1000\n",
      "Epoch 5/30, Loss: 0.132288\n",
      "Epoch 10/30, Loss: 0.059286\n",
      "Epoch 15/30, Loss: 0.032332\n",
      "Epoch 20/30, Loss: 0.019699\n",
      "Epoch 25/30, Loss: 0.016699\n",
      "Epoch 30/30, Loss: 0.017898\n",
      "\n",
      "Training with Truncate_5000\n",
      "Epoch 5/30, Loss: 0.072934\n",
      "Epoch 10/30, Loss: 0.036691\n",
      "Epoch 15/30, Loss: 0.027417\n",
      "Epoch 20/30, Loss: 0.020661\n",
      "Epoch 25/30, Loss: 0.015076\n",
      "Epoch 30/30, Loss: 0.014049\n",
      "\n",
      "Training with Truncate_10000\n",
      "Epoch 5/30, Loss: 0.029219\n",
      "Epoch 10/30, Loss: 0.082278\n",
      "Epoch 15/30, Loss: 0.017609\n",
      "Epoch 20/30, Loss: 0.014411\n",
      "Epoch 25/30, Loss: 0.023776\n",
      "Epoch 30/30, Loss: 0.019451\n",
      "\n",
      "==== Summary ====\n",
      "Method\t\tTime (s)\tCPU Mem (MB)\n",
      "------------------------------------------------------------\n",
      "Full BPTT      \t21.10\t\t85.90\n",
      "Truncate_20    \t24.63\t\t0.09\n",
      "Truncate_50    \t21.34\t\t-0.01\n",
      "Truncate_100   \t20.03\t\t0.11\n",
      "Truncate_200   \t19.67\t\t0.14\n",
      "Truncate_500   \t19.74\t\t0.34\n",
      "Truncate_1000  \t19.54\t\t2.12\n",
      "Truncate_5000  \t20.67\t\t27.23\n",
      "Truncate_10000 \t21.54\t\t84.75\n"
     ]
    }
   ],
   "source": [
    "def compare_bptt_methods():\n",
    "    device = torch.device(\"cuda\" if torch.cuda.is_available() else \"cpu\")\n",
    "    data = generate_data()  # Assuming this function exists\n",
    "\n",
    "    # List of configurations to compare\n",
    "    methods = [\n",
    "        {\"name\": \"Full BPTT\", \"is_truncate\": False},\n",
    "        {\"name\": \"Truncate_20\", \"is_truncate\": True, \"truncate_length\": 20},\n",
    "        {\"name\": \"Truncate_50\", \"is_truncate\": True, \"truncate_length\": 50},\n",
    "        {\"name\": \"Truncate_100\", \"is_truncate\": True, \"truncate_length\": 100},\n",
    "        {\"name\": \"Truncate_200\", \"is_truncate\": True, \"truncate_length\": 200},\n",
    "        {\"name\": \"Truncate_500\", \"is_truncate\": True, \"truncate_length\": 500},\n",
    "        {\"name\": \"Truncate_1000\", \"is_truncate\": True, \"truncate_length\": 1000},\n",
    "        {\"name\": \"Truncate_5000\", \"is_truncate\": True, \"truncate_length\": 5000},\n",
    "        {\"name\": \"Truncate_10000\", \"is_truncate\": True, \"truncate_length\": 10000},\n",
    "    ]\n",
    "\n",
    "    results = []\n",
    "    for method in methods:\n",
    "        print(f\"\\nTraining with {method['name']}\")\n",
    "        model = RNN().to(device)\n",
    "        if method[\"is_truncate\"]:\n",
    "            losses, time_taken, mem_used, gpu_mem_used, gpu_reserved_used = train(\n",
    "                model, data, truncate_length=method[\"truncate_length\"], is_truncate=True\n",
    "            )\n",
    "        else:\n",
    "            losses, time_taken, mem_used, gpu_mem_used, gpu_reserved_used = train(\n",
    "                model, data, is_truncate=False\n",
    "            )\n",
    "        results.append({\n",
    "            \"name\": method[\"name\"],\n",
    "            \"losses\": losses,\n",
    "            \"time\": time_taken,\n",
    "            \"mem_used\": mem_used,\n",
    "            \"gpu_mem_used\": gpu_mem_used,\n",
    "            \"gpu_reserved_used\": gpu_reserved_used\n",
    "        })\n",
    "\n",
    "    # Print summary\n",
    "    print(\"\\n==== Summary ====\")\n",
    "    print(\"Method\\t\\tTime (s)\\tCPU Mem (MB)\")\n",
    "    print(\"-\" * 60)\n",
    "    for result in results:\n",
    "        print(f\"{result['name']:<15}\\t{result['time']:.2f}\\t\\t{result['mem_used']:.2f}\")\n",
    "\n",
    "compare_bptt_methods()"
   ]
  },
  {
   "cell_type": "markdown",
   "metadata": {},
   "source": [
    "Từ bảng Summary trên, có thể thấy độ dài truncate từ 200 đến 1000 là tối ưu cho dữ liệu có độ dài 10000, mang lại thời gian huấn luyện nhanh và bộ nhớ CPU thấp. Tuy nhiên, nếu độ dài truncate quá nhỏ (20 - 50) sẽ làm tăng thời gian, trong khi độ dài quá lớn (5000-10000) sẽ làm tăng bộ nhớ, mất đi lợi thế của truncation."
   ]
  }
 ],
 "metadata": {
  "kernelspec": {
   "display_name": "myenv",
   "language": "python",
   "name": "python3"
  },
  "language_info": {
   "codemirror_mode": {
    "name": "ipython",
    "version": 3
   },
   "file_extension": ".py",
   "mimetype": "text/x-python",
   "name": "python",
   "nbconvert_exporter": "python",
   "pygments_lexer": "ipython3",
   "version": "3.9.13"
  }
 },
 "nbformat": 4,
 "nbformat_minor": 2
}
